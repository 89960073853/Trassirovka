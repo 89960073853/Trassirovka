$y_{n+1}=y_{n}+h\cdot∑ki=0β_{ki}F_{n−i}$
